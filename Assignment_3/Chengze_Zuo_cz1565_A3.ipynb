{
 "cells": [
  {
   "cell_type": "markdown",
   "metadata": {},
   "source": [
    "## 0. Setup"
   ]
  },
  {
   "cell_type": "code",
   "execution_count": 2,
   "metadata": {
    "collapsed": true
   },
   "outputs": [],
   "source": [
    "# Import dependencies\n",
    "import torch\n",
    "import torch.nn as nn\n",
    "import torch.nn.functional as F\n",
    "import torch.optim as optim\n",
    "from torch.utils.data import DataLoader\n",
    "from torchvision import datasets, transforms"
   ]
  },
  {
   "cell_type": "code",
   "execution_count": 3,
   "metadata": {
    "collapsed": true
   },
   "outputs": [],
   "source": [
    "# Set up your device \n",
    "cuda = torch.cuda.is_available()\n",
    "device = torch.device(\"cuda:0\" if cuda else \"cpu\")"
   ]
  },
  {
   "cell_type": "code",
   "execution_count": 4,
   "metadata": {
    "collapsed": true
   },
   "outputs": [],
   "source": [
    "# Set up random seed to 1008. Do not change the random seed.\n",
    "seed = 1008\n",
    "torch.manual_seed(seed)\n",
    "if cuda:\n",
    "    torch.cuda.manual_seed_all(seed)"
   ]
  },
  {
   "cell_type": "markdown",
   "metadata": {},
   "source": [
    "## 1. Data: MNIST\n",
    "#### Load the MNIST training and test dataset using $\\texttt{torch.utils.data.DataLoader}$ and $\\texttt{torchvision.datasets}$. \n",
    "\n",
    "Hint: You might find Alf's notebook useful: https://github.com/Atcold/pytorch-Deep-Learning-Minicourse/blob/master/06-convnet.ipynb"
   ]
  },
  {
   "cell_type": "markdown",
   "metadata": {},
   "source": [
    "### 1.1. Load Training Set [4 pts]"
   ]
  },
  {
   "cell_type": "code",
   "execution_count": 101,
   "metadata": {
    "collapsed": true
   },
   "outputs": [],
   "source": [
    "# Load the MNIST training set with batch size 128, apply data shuffling and normalization\n",
    "train_loader = train_loader = torch.utils.data.DataLoader(\n",
    "    datasets.MNIST('../data', train=True, download=True,\n",
    "                   transform=transforms.Compose([\n",
    "                       transforms.ToTensor(),\n",
    "                       transforms.Normalize((0.1307,), (0.3081,))\n",
    "                   ])),\n",
    "    batch_size=128, shuffle=True)"
   ]
  },
  {
   "cell_type": "markdown",
   "metadata": {},
   "source": [
    "### 1.1. Load Test Set [4 pts]"
   ]
  },
  {
   "cell_type": "code",
   "execution_count": 102,
   "metadata": {
    "collapsed": true
   },
   "outputs": [],
   "source": [
    "# Load the MNIST test set with batch size 128, apply data shuffling and normalization\n",
    "test_loader = test_loader = torch.utils.data.DataLoader(\n",
    "    datasets.MNIST('../data', train=False, transform=transforms.Compose([\n",
    "                       transforms.ToTensor(),\n",
    "                       transforms.Normalize((0.1307,), (0.3081,))\n",
    "                   ])),\n",
    "    batch_size=128, shuffle=True)"
   ]
  },
  {
   "cell_type": "markdown",
   "metadata": {},
   "source": [
    "## 2. Models\n",
    "#### You are going to define two convolutional neural networks which are trained to classify MNIST digits"
   ]
  },
  {
   "cell_type": "markdown",
   "metadata": {},
   "source": [
    "### 2.1. CNN without Batch Norm [15 pts]"
   ]
  },
  {
   "cell_type": "code",
   "execution_count": 103,
   "metadata": {
    "collapsed": true
   },
   "outputs": [],
   "source": [
    "# Fill in the values below that make this network valid for MNIST data\n",
    "\n",
    "conv1_in_ch = 1\n",
    "conv2_in_ch = 20\n",
    "fc1_in_features = 50*4*4\n",
    "fc2_in_features = 500\n",
    "n_classes = 10"
   ]
  },
  {
   "cell_type": "code",
   "execution_count": 131,
   "metadata": {
    "collapsed": true
   },
   "outputs": [],
   "source": [
    "class NetWithoutBatchNorm(nn.Module):\n",
    "    def __init__(self):\n",
    "        super(NetWithoutBatchNorm, self).__init__()\n",
    "        self.conv1 = nn.Conv2d(in_channels=conv1_in_ch, out_channels=20, kernel_size=5, stride=1)\n",
    "        self.conv2 = nn.Conv2d(in_channels=conv2_in_ch, out_channels=50, kernel_size=5, stride=1)\n",
    "        self.fc1 = nn.Linear(in_features=fc1_in_features, out_features=500)\n",
    "        self.fc2 = nn.Linear(in_features=fc2_in_features, out_features=n_classes)\n",
    "\n",
    "    def forward(self, x):\n",
    "        x = F.relu(self.conv1(x))\n",
    "        x = F.max_pool2d(x, kernel_size=2, stride=2)\n",
    "        x = F.relu(self.conv2(x))\n",
    "        x = F.max_pool2d(x, kernel_size=2, stride=2)\n",
    "        x = x.view(-1, fc1_in_features) # reshaping\n",
    "        x = F.relu(self.fc1(x))\n",
    "        x = self.fc2(x)\n",
    "        # Return the log_softmax of x.\n",
    "        return F.log_softmax(x, dim=1)"
   ]
  },
  {
   "cell_type": "markdown",
   "metadata": {},
   "source": [
    "### 2.2. CNN with Batch Norm [15 pts]"
   ]
  },
  {
   "cell_type": "code",
   "execution_count": 168,
   "metadata": {
    "collapsed": true
   },
   "outputs": [],
   "source": [
    "# Fill in the values below that make this network valid for MNIST data\n",
    "\n",
    "conv1_bn_size = conv2_in_ch # 20\n",
    "conv2_bn_size = 50 # equals to out_channels for self.conv2\n",
    "fc1_bn_size = fc2_in_features"
   ]
  },
  {
   "cell_type": "code",
   "execution_count": 169,
   "metadata": {
    "collapsed": true
   },
   "outputs": [],
   "source": [
    "# Define the CNN with architecture explained in Part 2.2\n",
    "class NetWithBatchNorm(nn.Module):\n",
    "    def __init__(self):\n",
    "        super(NetWithBatchNorm, self).__init__()\n",
    "        self.conv1 = nn.Conv2d(in_channels=conv1_in_ch, out_channels=20, kernel_size=5, stride=1)\n",
    "        self.conv1_bn = nn.BatchNorm2d(conv1_bn_size)\n",
    "        self.conv2 = nn.Conv2d(in_channels=conv2_in_ch, out_channels=50, kernel_size=5, stride=1)\n",
    "        self.conv2_bn = nn.BatchNorm2d(conv2_bn_size)\n",
    "        self.fc1 = nn.Linear(in_features=fc1_in_features, out_features=500)\n",
    "        self.fc1_bn = nn.BatchNorm1d(fc1_bn_size)\n",
    "        self.fc2 = nn.Linear(in_features=fc2_in_features, out_features=n_classes)\n",
    "\n",
    "    def forward(self, x):\n",
    "        x = F.relu(self.conv1_bn(self.conv1(x)))\n",
    "        x = F.max_pool2d(x, kernel_size=2, stride=2)\n",
    "        x = F.relu(self.conv2_bn(self.conv2(x)))\n",
    "        x = F.max_pool2d(x, kernel_size=2, stride=2)\n",
    "        x = x.view(-1, fc1_in_features)\n",
    "        x = F.relu(self.fc1_bn(self.fc1(x)))\n",
    "        x = self.fc2(x)\n",
    "        # Return the log_softmax of x.\n",
    "        return F.log_softmax(x, dim=1)"
   ]
  },
  {
   "cell_type": "markdown",
   "metadata": {},
   "source": [
    "## 3. Training & Evaluation"
   ]
  },
  {
   "cell_type": "markdown",
   "metadata": {},
   "source": [
    "### 3.1. Define training method [15 pts]"
   ]
  },
  {
   "cell_type": "code",
   "execution_count": 170,
   "metadata": {
    "collapsed": true
   },
   "outputs": [],
   "source": [
    "\n",
    "def train(model, device, train_loader, optimizer, epoch, log_interval = 100):\n",
    "    # Set model to training mode\n",
    "    model.train()\n",
    "    # Loop through data points\n",
    "    for batch_idx, (data, target) in enumerate(train_loader):        \n",
    "        \n",
    "        # Send data and target to device\n",
    "        data = data.to(device=device)\n",
    "        target = target.to(device=device, dtype=torch.long)\n",
    "        \n",
    "        # Zero out the ortimizer\n",
    "        optimizer.zero_grad()\n",
    "        \n",
    "        # Pass data through model\n",
    "        output = model(data)\n",
    "    \n",
    "        # Compute the negative log likelihood loss\n",
    "        loss = F.nll_loss(output, target)\n",
    "        \n",
    "        # Backpropagate loss\n",
    "        loss.backward()\n",
    "        \n",
    "        # Make a step with the optimizer\n",
    "        optimizer.step()\n",
    "        \n",
    "        # Print loss (uncomment lines below once implemented)\n",
    "        if batch_idx % log_interval == 0:\n",
    "            print('Train Epoch: {} [{}/{} ({:.0f}%)]\\tLoss: {:.6f}'.format(\n",
    "                epoch, batch_idx * len(data), len(train_loader.dataset),\n",
    "                100. * batch_idx / len(train_loader), loss.item()))"
   ]
  },
  {
   "cell_type": "markdown",
   "metadata": {},
   "source": [
    "### 3.2. Define test method [15 pts]"
   ]
  },
  {
   "cell_type": "code",
   "execution_count": 171,
   "metadata": {
    "collapsed": true
   },
   "outputs": [],
   "source": [
    "# Define test method\n",
    "def test(model, device, test_loader):\n",
    "    # Set model to evaluation mode\n",
    "    model.eval()\n",
    "    # Variable for the total loss \n",
    "    test_loss = 0\n",
    "    # Counter for the correct predictions\n",
    "    num_correct = 0\n",
    "    \n",
    "    with torch.no_grad():\n",
    "        # Loop through data points\n",
    "        for data, target in test_loader:\n",
    "            \n",
    "            # Send data to device\n",
    "            data = data.to(device=device)\n",
    "            target = target.to(device=device, dtype=torch.long)\n",
    "            \n",
    "            # Pass data through model\n",
    "            output = model(data)\n",
    "            \n",
    "            # Compute the negative log likelihood loss with reduction='sum' and add to total test_loss\n",
    "            test_loss += F.nll_loss(output, target, reduction='sum').item()\n",
    "            \n",
    "            # Get predictions from the model for each data point\n",
    "            pred = output.data.max(1, keepdim=True)[1] # get the index of the max log-probability                                                                 \n",
    "            \n",
    "            # Add number of correct predictions to total num_correct \n",
    "            num_correct += pred.eq(target.data.view_as(pred)).cpu().sum().item()\n",
    "    \n",
    "    # Compute the average test_loss\n",
    "    avg_test_loss = test_loss / len(test_loader.dataset)\n",
    "    \n",
    "    # Print loss (uncomment lines below once implemented)\n",
    "    print('\\nTest set: Average loss: {:.4f}, Accuracy: {}/{} ({:.0f}%)\\n'.format(\n",
    "        avg_test_loss, num_correct, len(test_loader.dataset),\n",
    "        100. * num_correct / len(test_loader.dataset)))"
   ]
  },
  {
   "cell_type": "markdown",
   "metadata": {},
   "source": [
    "### 3.3 Train NetWithoutBatchNorm() [5 pts]"
   ]
  },
  {
   "cell_type": "code",
   "execution_count": 166,
   "metadata": {
    "collapsed": true
   },
   "outputs": [
    {
     "name": "stdout",
     "output_type": "stream",
     "text": [
      "Train Epoch: 1 [0/60000 (0%)]\tLoss: 2.319835\n",
      "Train Epoch: 1 [12800/60000 (21%)]\tLoss: 0.268992\n",
      "Train Epoch: 1 [25600/60000 (43%)]\tLoss: 0.268526\n",
      "Train Epoch: 1 [38400/60000 (64%)]\tLoss: 0.167374\n",
      "Train Epoch: 1 [51200/60000 (85%)]\tLoss: 0.204267\n",
      "\n",
      "Test set: Average loss: 0.1110, Accuracy: 9661/10000 (97%)\n",
      "\n",
      "Train Epoch: 2 [0/60000 (0%)]\tLoss: 0.025135\n",
      "Train Epoch: 2 [12800/60000 (21%)]\tLoss: 0.077447\n",
      "Train Epoch: 2 [25600/60000 (43%)]\tLoss: 0.045274\n",
      "Train Epoch: 2 [38400/60000 (64%)]\tLoss: 0.188324\n",
      "Train Epoch: 2 [51200/60000 (85%)]\tLoss: 0.064267\n",
      "\n",
      "Test set: Average loss: 0.0587, Accuracy: 9819/10000 (98%)\n",
      "\n",
      "Train Epoch: 3 [0/60000 (0%)]\tLoss: 0.111948\n",
      "Train Epoch: 3 [12800/60000 (21%)]\tLoss: 0.076258\n",
      "Train Epoch: 3 [25600/60000 (43%)]\tLoss: 0.028307\n",
      "Train Epoch: 3 [38400/60000 (64%)]\tLoss: 0.040307\n",
      "Train Epoch: 3 [51200/60000 (85%)]\tLoss: 0.042804\n",
      "\n",
      "Test set: Average loss: 0.0501, Accuracy: 9834/10000 (98%)\n",
      "\n",
      "Train Epoch: 4 [0/60000 (0%)]\tLoss: 0.077781\n",
      "Train Epoch: 4 [12800/60000 (21%)]\tLoss: 0.022617\n",
      "Train Epoch: 4 [25600/60000 (43%)]\tLoss: 0.026801\n",
      "Train Epoch: 4 [38400/60000 (64%)]\tLoss: 0.014732\n",
      "Train Epoch: 4 [51200/60000 (85%)]\tLoss: 0.076419\n",
      "\n",
      "Test set: Average loss: 0.0380, Accuracy: 9888/10000 (99%)\n",
      "\n",
      "Train Epoch: 5 [0/60000 (0%)]\tLoss: 0.037428\n",
      "Train Epoch: 5 [12800/60000 (21%)]\tLoss: 0.024782\n",
      "Train Epoch: 5 [25600/60000 (43%)]\tLoss: 0.035983\n",
      "Train Epoch: 5 [38400/60000 (64%)]\tLoss: 0.024853\n",
      "Train Epoch: 5 [51200/60000 (85%)]\tLoss: 0.016331\n",
      "\n",
      "Test set: Average loss: 0.0361, Accuracy: 9890/10000 (99%)\n",
      "\n",
      "Train Epoch: 6 [0/60000 (0%)]\tLoss: 0.038696\n",
      "Train Epoch: 6 [12800/60000 (21%)]\tLoss: 0.016436\n",
      "Train Epoch: 6 [25600/60000 (43%)]\tLoss: 0.022923\n",
      "Train Epoch: 6 [38400/60000 (64%)]\tLoss: 0.021189\n",
      "Train Epoch: 6 [51200/60000 (85%)]\tLoss: 0.060867\n",
      "\n",
      "Test set: Average loss: 0.0390, Accuracy: 9873/10000 (99%)\n",
      "\n",
      "Train Epoch: 7 [0/60000 (0%)]\tLoss: 0.027028\n",
      "Train Epoch: 7 [12800/60000 (21%)]\tLoss: 0.004041\n",
      "Train Epoch: 7 [25600/60000 (43%)]\tLoss: 0.034870\n",
      "Train Epoch: 7 [38400/60000 (64%)]\tLoss: 0.011308\n",
      "Train Epoch: 7 [51200/60000 (85%)]\tLoss: 0.022934\n",
      "\n",
      "Test set: Average loss: 0.0280, Accuracy: 9911/10000 (99%)\n",
      "\n",
      "Train Epoch: 8 [0/60000 (0%)]\tLoss: 0.030515\n",
      "Train Epoch: 8 [12800/60000 (21%)]\tLoss: 0.007334\n",
      "Train Epoch: 8 [25600/60000 (43%)]\tLoss: 0.035386\n",
      "Train Epoch: 8 [38400/60000 (64%)]\tLoss: 0.054183\n",
      "Train Epoch: 8 [51200/60000 (85%)]\tLoss: 0.009877\n",
      "\n",
      "Test set: Average loss: 0.0276, Accuracy: 9910/10000 (99%)\n",
      "\n",
      "Train Epoch: 9 [0/60000 (0%)]\tLoss: 0.043312\n",
      "Train Epoch: 9 [12800/60000 (21%)]\tLoss: 0.016500\n",
      "Train Epoch: 9 [25600/60000 (43%)]\tLoss: 0.036175\n",
      "Train Epoch: 9 [38400/60000 (64%)]\tLoss: 0.007688\n",
      "Train Epoch: 9 [51200/60000 (85%)]\tLoss: 0.004703\n",
      "\n",
      "Test set: Average loss: 0.0299, Accuracy: 9904/10000 (99%)\n",
      "\n",
      "Train Epoch: 10 [0/60000 (0%)]\tLoss: 0.015825\n",
      "Train Epoch: 10 [12800/60000 (21%)]\tLoss: 0.062046\n",
      "Train Epoch: 10 [25600/60000 (43%)]\tLoss: 0.019469\n",
      "Train Epoch: 10 [38400/60000 (64%)]\tLoss: 0.003040\n",
      "Train Epoch: 10 [51200/60000 (85%)]\tLoss: 0.007938\n",
      "\n",
      "Test set: Average loss: 0.0279, Accuracy: 9909/10000 (99%)\n",
      "\n"
     ]
    }
   ],
   "source": [
    "# Deifne model and sent to device\n",
    "model = NetWithoutBatchNorm()\n",
    "model.to(device)\n",
    "\n",
    "# Optimizer: SGD with learning rate of 1e-2 and momentum of 0.5\n",
    "optimizer = optim.SGD(model.parameters(), lr=0.02, momentum=0.5)\n",
    "\n",
    "# Training loop with 10 epochs\n",
    "for epoch in range(1, 10 + 1):\n",
    "\n",
    "    # Train model\n",
    "    train(model, device, train_loader, optimizer, epoch)\n",
    "    \n",
    "    # Test model\n",
    "    test(model, device, test_loader)"
   ]
  },
  {
   "cell_type": "markdown",
   "metadata": {},
   "source": [
    "### 3.4 Train NetWithBatchNorm() [5 pts]"
   ]
  },
  {
   "cell_type": "code",
   "execution_count": 172,
   "metadata": {
    "collapsed": true
   },
   "outputs": [
    {
     "name": "stdout",
     "output_type": "stream",
     "text": [
      "Train Epoch: 1 [0/60000 (0%)]\tLoss: 2.382228\n",
      "Train Epoch: 1 [12800/60000 (21%)]\tLoss: 0.319685\n",
      "Train Epoch: 1 [25600/60000 (43%)]\tLoss: 0.127538\n",
      "Train Epoch: 1 [38400/60000 (64%)]\tLoss: 0.151877\n",
      "Train Epoch: 1 [51200/60000 (85%)]\tLoss: 0.117183\n",
      "\n",
      "Test set: Average loss: 0.0861, Accuracy: 9774/10000 (98%)\n",
      "\n",
      "Train Epoch: 2 [0/60000 (0%)]\tLoss: 0.132126\n",
      "Train Epoch: 2 [12800/60000 (21%)]\tLoss: 0.042194\n",
      "Train Epoch: 2 [25600/60000 (43%)]\tLoss: 0.034909\n",
      "Train Epoch: 2 [38400/60000 (64%)]\tLoss: 0.044678\n",
      "Train Epoch: 2 [51200/60000 (85%)]\tLoss: 0.043487\n",
      "\n",
      "Test set: Average loss: 0.0502, Accuracy: 9867/10000 (99%)\n",
      "\n",
      "Train Epoch: 3 [0/60000 (0%)]\tLoss: 0.028064\n",
      "Train Epoch: 3 [12800/60000 (21%)]\tLoss: 0.082893\n",
      "Train Epoch: 3 [25600/60000 (43%)]\tLoss: 0.065522\n",
      "Train Epoch: 3 [38400/60000 (64%)]\tLoss: 0.043817\n",
      "Train Epoch: 3 [51200/60000 (85%)]\tLoss: 0.010353\n",
      "\n",
      "Test set: Average loss: 0.0394, Accuracy: 9879/10000 (99%)\n",
      "\n",
      "Train Epoch: 4 [0/60000 (0%)]\tLoss: 0.011146\n",
      "Train Epoch: 4 [12800/60000 (21%)]\tLoss: 0.063580\n",
      "Train Epoch: 4 [25600/60000 (43%)]\tLoss: 0.018884\n",
      "Train Epoch: 4 [38400/60000 (64%)]\tLoss: 0.045603\n",
      "Train Epoch: 4 [51200/60000 (85%)]\tLoss: 0.063307\n",
      "\n",
      "Test set: Average loss: 0.0341, Accuracy: 9894/10000 (99%)\n",
      "\n",
      "Train Epoch: 5 [0/60000 (0%)]\tLoss: 0.043558\n",
      "Train Epoch: 5 [12800/60000 (21%)]\tLoss: 0.022824\n",
      "Train Epoch: 5 [25600/60000 (43%)]\tLoss: 0.035337\n",
      "Train Epoch: 5 [38400/60000 (64%)]\tLoss: 0.020688\n",
      "Train Epoch: 5 [51200/60000 (85%)]\tLoss: 0.008963\n",
      "\n",
      "Test set: Average loss: 0.0335, Accuracy: 9899/10000 (99%)\n",
      "\n",
      "Train Epoch: 6 [0/60000 (0%)]\tLoss: 0.037169\n",
      "Train Epoch: 6 [12800/60000 (21%)]\tLoss: 0.051599\n",
      "Train Epoch: 6 [25600/60000 (43%)]\tLoss: 0.016282\n",
      "Train Epoch: 6 [38400/60000 (64%)]\tLoss: 0.039530\n",
      "Train Epoch: 6 [51200/60000 (85%)]\tLoss: 0.020369\n",
      "\n",
      "Test set: Average loss: 0.0337, Accuracy: 9905/10000 (99%)\n",
      "\n",
      "Train Epoch: 7 [0/60000 (0%)]\tLoss: 0.014528\n",
      "Train Epoch: 7 [12800/60000 (21%)]\tLoss: 0.040646\n",
      "Train Epoch: 7 [25600/60000 (43%)]\tLoss: 0.015702\n",
      "Train Epoch: 7 [38400/60000 (64%)]\tLoss: 0.011172\n",
      "Train Epoch: 7 [51200/60000 (85%)]\tLoss: 0.032387\n",
      "\n",
      "Test set: Average loss: 0.0307, Accuracy: 9908/10000 (99%)\n",
      "\n",
      "Train Epoch: 8 [0/60000 (0%)]\tLoss: 0.044743\n",
      "Train Epoch: 8 [12800/60000 (21%)]\tLoss: 0.025531\n",
      "Train Epoch: 8 [25600/60000 (43%)]\tLoss: 0.028062\n",
      "Train Epoch: 8 [38400/60000 (64%)]\tLoss: 0.026102\n",
      "Train Epoch: 8 [51200/60000 (85%)]\tLoss: 0.023706\n",
      "\n",
      "Test set: Average loss: 0.0292, Accuracy: 9914/10000 (99%)\n",
      "\n",
      "Train Epoch: 9 [0/60000 (0%)]\tLoss: 0.019901\n",
      "Train Epoch: 9 [12800/60000 (21%)]\tLoss: 0.029380\n",
      "Train Epoch: 9 [25600/60000 (43%)]\tLoss: 0.004697\n",
      "Train Epoch: 9 [38400/60000 (64%)]\tLoss: 0.004968\n",
      "Train Epoch: 9 [51200/60000 (85%)]\tLoss: 0.004826\n",
      "\n",
      "Test set: Average loss: 0.0264, Accuracy: 9914/10000 (99%)\n",
      "\n",
      "Train Epoch: 10 [0/60000 (0%)]\tLoss: 0.004720\n",
      "Train Epoch: 10 [12800/60000 (21%)]\tLoss: 0.024780\n",
      "Train Epoch: 10 [25600/60000 (43%)]\tLoss: 0.018284\n",
      "Train Epoch: 10 [38400/60000 (64%)]\tLoss: 0.015958\n",
      "Train Epoch: 10 [51200/60000 (85%)]\tLoss: 0.007194\n",
      "\n",
      "Test set: Average loss: 0.0269, Accuracy: 9914/10000 (99%)\n",
      "\n"
     ]
    }
   ],
   "source": [
    "# Deifne model and sent to device\n",
    "model = NetWithBatchNorm()\n",
    "model.to(device)\n",
    "\n",
    "# Optimizer: SGD with learning rate of 1e-2 and momentum of 0.5\n",
    "optimizer = optim.SGD(model.parameters(), lr=0.02, momentum=0.5)\n",
    "\n",
    "# Training loop with 10 epochs\n",
    "for epoch in range(1, 10 + 1):\n",
    "    pass # remove once implemented\n",
    "    \n",
    "    # Train model\n",
    "    train(model, device, train_loader, optimizer, epoch)\n",
    "    \n",
    "    # Test model\n",
    "    test(model, device, test_loader)"
   ]
  },
  {
   "cell_type": "markdown",
   "metadata": {},
   "source": [
    "## 4. Empirically, which of the models achieves higher accuracy faster? [2 pts]"
   ]
  },
  {
   "cell_type": "markdown",
   "metadata": {},
   "source": [
    "Answer: NetWithBatchNorm achieves higher accuracy faster."
   ]
  }
 ],
 "metadata": {
  "kernelspec": {
   "display_name": "Python 3",
   "language": "python",
   "name": "python3"
  },
  "language_info": {
   "codemirror_mode": {
    "name": "ipython",
    "version": 3
   },
   "file_extension": ".py",
   "mimetype": "text/x-python",
   "name": "python",
   "nbconvert_exporter": "python",
   "pygments_lexer": "ipython3",
   "version": "3.7.1"
  }
 },
 "nbformat": 4,
 "nbformat_minor": 2
}
