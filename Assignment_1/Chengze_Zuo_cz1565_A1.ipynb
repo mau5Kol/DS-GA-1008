{
 "cells": [
  {
   "cell_type": "code",
   "execution_count": 1,
   "metadata": {
    "colab": {},
    "colab_type": "code",
    "id": "EyJt4yZIQAem"
   },
   "outputs": [],
   "source": [
    "# Import dependencies\n",
    "import torch\n",
    "import torch.nn as nn\n",
    "from plot_lib import set_default, show_scatterplot, plot_bases\n",
    "from matplotlib.pyplot import plot, title, axis"
   ]
  },
  {
   "cell_type": "code",
   "execution_count": 2,
   "metadata": {
    "colab": {},
    "colab_type": "code",
    "id": "VTHDQFHFQAeq"
   },
   "outputs": [],
   "source": [
    "# Set up your device \n",
    "cuda = torch.cuda.is_available()\n",
    "device = torch.device(\"cuda:0\" if cuda else \"cpu\")"
   ]
  },
  {
   "cell_type": "code",
   "execution_count": 3,
   "metadata": {
    "colab": {},
    "colab_type": "code",
    "id": "exqe27QXQAet"
   },
   "outputs": [],
   "source": [
    "# Set up random seed to 1008. Do not change the random seed.\n",
    "seed = 1008\n",
    "torch.manual_seed(seed)\n",
    "if cuda:\n",
    "    torch.cuda.manual_seed_all(seed)"
   ]
  },
  {
   "cell_type": "markdown",
   "metadata": {
    "colab_type": "text",
    "id": "7krs-4XOQAev"
   },
   "source": [
    "# 1. Full, slice, fill\n",
    "Write a function `warm_up` that returns the 2D tensor with integers below. **Do not use any loops**.\n",
    "\n",
    "```\n",
    "1 2 1 1 1 1 2 1 1 1 1 2 1\n",
    "2 2 2 2 2 2 2 2 2 2 2 2 2\n",
    "1 2 1 1 1 1 2 1 1 1 1 2 1\n",
    "1 2 1 3 3 1 2 1 3 3 1 2 1\n",
    "1 2 1 3 3 1 2 1 3 3 1 2 1\n",
    "1 2 1 1 1 1 2 1 1 1 1 2 1\n",
    "2 2 2 2 2 2 2 2 2 2 2 2 2\n",
    "1 2 1 1 1 1 2 1 1 1 1 2 1\n",
    "1 2 1 3 3 1 2 1 3 3 1 2 1\n",
    "1 2 1 3 3 1 2 1 3 3 1 2 1\n",
    "1 2 1 1 1 1 2 1 1 1 1 2 1\n",
    "2 2 2 2 2 2 2 2 2 2 2 2 2\n",
    "1 2 1 1 1 1 2 1 1 1 1 2 1\n",
    "```\n",
    "\n",
    "\n",
    "Hint: Use `torch.full`, `torch.fill_`, and the slicing operator."
   ]
  },
  {
   "cell_type": "code",
   "execution_count": 4,
   "metadata": {
    "colab": {},
    "colab_type": "code",
    "id": "JsFk9OUoQAew"
   },
   "outputs": [
    {
     "name": "stdout",
     "output_type": "stream",
     "text": [
      "tensor([[1, 2, 1, 1, 1, 1, 2, 1, 1, 1, 1, 2, 1],\n",
      "        [2, 2, 2, 2, 2, 2, 2, 2, 2, 2, 2, 2, 2],\n",
      "        [1, 2, 1, 1, 1, 1, 2, 1, 1, 1, 1, 2, 1],\n",
      "        [1, 2, 1, 3, 3, 1, 2, 1, 3, 3, 1, 2, 1],\n",
      "        [1, 2, 1, 3, 3, 1, 2, 1, 3, 3, 1, 2, 1],\n",
      "        [1, 2, 1, 1, 1, 1, 2, 1, 1, 1, 1, 2, 1],\n",
      "        [2, 2, 2, 2, 2, 2, 2, 2, 2, 2, 2, 2, 2],\n",
      "        [1, 2, 1, 1, 1, 1, 2, 1, 1, 1, 1, 2, 1],\n",
      "        [1, 2, 1, 3, 3, 1, 2, 1, 3, 3, 1, 2, 1],\n",
      "        [1, 2, 1, 3, 3, 1, 2, 1, 3, 3, 1, 2, 1],\n",
      "        [1, 2, 1, 1, 1, 1, 2, 1, 1, 1, 1, 2, 1],\n",
      "        [2, 2, 2, 2, 2, 2, 2, 2, 2, 2, 2, 2, 2],\n",
      "        [1, 2, 1, 1, 1, 1, 2, 1, 1, 1, 1, 2, 1]], dtype=torch.uint8)\n"
     ]
    }
   ],
   "source": [
    "def warm_up():\n",
    "    # raise NotImplementedError()\n",
    "    x = torch.zeros((13, 13))\n",
    "    # fill 1s\n",
    "    index = torch.tensor([i for i in range(13)])\n",
    "    x.index_fill_(1, index, 1)\n",
    "    # fill 2s\n",
    "    index = torch.tensor([1, 6, 11])\n",
    "    x.index_fill_(0, index, 2)\n",
    "    x.index_fill_(1, index, 2)\n",
    "    # slicing to fill 3s\n",
    "    x[3:5, 3:5] = 3\n",
    "    x[3:5, 8:10] = 3\n",
    "    x[8:10, 3:5] = 3\n",
    "    x[8:10, 8:10] = 3\n",
    "    x = x.byte()\n",
    "    return x\n",
    "# Uncomment line below once you implement this function. \n",
    "print(warm_up())"
   ]
  },
  {
   "cell_type": "markdown",
   "metadata": {
    "colab_type": "text",
    "id": "E8ivZVl5QAez"
   },
   "source": [
    "# 2. To Loop or not to loop"
   ]
  },
  {
   "cell_type": "markdown",
   "metadata": {
    "colab_type": "text",
    "id": "mxGRJK4-QAe0"
   },
   "source": [
    "## 2.1. `mul_row_loop`\n",
    "Write a function `mul_row_loop`, using python loops (and not even slicing operators), that gets a 2D tensor\n",
    "as input, and returns a tensor of same size, equal to the one given as argument, with the first row\n",
    "kept unchanged, the second multiplied by two, the third by three, etc.\n",
    "For instance:\n",
    "```\n",
    ">>> t = torch.full((4, 8), 2.0)\n",
    ">>> t\n",
    "tensor([[2., 2., 2., 2., 2., 2., 2., 2.],\n",
    "[2., 2., 2., 2., 2., 2., 2., 2.],\n",
    "[2., 2., 2., 2., 2., 2., 2., 2.],\n",
    "[2., 2., 2., 2., 2., 2., 2., 2.]])\n",
    ">>> mul_row(t)\n",
    "tensor([[2., 2., 2., 2., 2., 2., 2., 2.],\n",
    "[4., 4., 4., 4., 4., 4., 4., 4.],\n",
    "[6., 6., 6., 6., 6., 6., 6., 6.],\n",
    "[8., 8., 8., 8., 8., 8., 8., 8.]])\n",
    "```"
   ]
  },
  {
   "cell_type": "code",
   "execution_count": 38,
   "metadata": {
    "colab": {},
    "colab_type": "code",
    "id": "5YIAg1mlQAe0"
   },
   "outputs": [],
   "source": [
    "def mul_row_loop(input_tensor):\n",
    "    # raise NotImplementedError()\n",
    "    # input tensor is a 2D tensor\n",
    "    cols = torch.Tensor.size(input_tensor)[1]\n",
    "    output_tensor = torch.Tensor() # initialize an empty tensor\n",
    "    for index, row in enumerate(input_tensor):\n",
    "        row = row * (index + 1)\n",
    "        output_tensor = torch.cat((output_tensor, row), 0) \n",
    "    return output_tensor.view([4, -1]) # reshape the tensor to the required shape"
   ]
  },
  {
   "cell_type": "code",
   "execution_count": 39,
   "metadata": {},
   "outputs": [
    {
     "data": {
      "text/plain": [
       "tensor([[2., 2., 2., 2., 2., 2., 2., 2.],\n",
       "        [4., 4., 4., 4., 4., 4., 4., 4.],\n",
       "        [6., 6., 6., 6., 6., 6., 6., 6.],\n",
       "        [8., 8., 8., 8., 8., 8., 8., 8.]])"
      ]
     },
     "execution_count": 39,
     "metadata": {},
     "output_type": "execute_result"
    }
   ],
   "source": [
    "# Test\n",
    "t = torch.full((4, 8), 2.0)\n",
    "mul_row_loop(t)"
   ]
  },
  {
   "cell_type": "markdown",
   "metadata": {
    "colab_type": "text",
    "id": "ycMZbO2HQAe3"
   },
   "source": [
    "# 2.2. `mul_row_fast`\n",
    "Write a second version of the same function named `mul_row_fast` which uses tensor operations and no looping.\n",
    "\n",
    "**Hint**: Use broadcasting and `torch.arange`, `torch.view`, and `torch.mul`."
   ]
  },
  {
   "cell_type": "code",
   "execution_count": 40,
   "metadata": {
    "colab": {},
    "colab_type": "code",
    "id": "5V3Q-GX8QAe3"
   },
   "outputs": [],
   "source": [
    "def mul_row_fast(input_tensor):\n",
    "    # raise NotImplementedError()\n",
    "    rows = torch.Tensor.size(input_tensor)[0]\n",
    "    mul_tensor = torch.arange(1, rows+1)\n",
    "    # reshape mul_tensor\n",
    "    mul_tensor = mul_tensor.view([-1,1])\n",
    "    mul_tensor = mul_tensor.float()\n",
    "    output_tensor = torch.mul(input_tensor, mul_tensor)\n",
    "    return output_tensor"
   ]
  },
  {
   "cell_type": "code",
   "execution_count": 41,
   "metadata": {},
   "outputs": [
    {
     "data": {
      "text/plain": [
       "tensor([[2., 2., 2., 2., 2., 2., 2., 2.],\n",
       "        [4., 4., 4., 4., 4., 4., 4., 4.],\n",
       "        [6., 6., 6., 6., 6., 6., 6., 6.],\n",
       "        [8., 8., 8., 8., 8., 8., 8., 8.]])"
      ]
     },
     "execution_count": 41,
     "metadata": {},
     "output_type": "execute_result"
    }
   ],
   "source": [
    "# Test\n",
    "t = torch.full((4, 8), 2.0)\n",
    "mul_row_fast(t)\n",
    "# torch.mul is not the matrix multiplication!!!"
   ]
  },
  {
   "cell_type": "markdown",
   "metadata": {
    "colab_type": "text",
    "id": "6MWuVzVQQAe7"
   },
   "source": [
    "# 2.3. `times`\n",
    "Write a function `times` which takes a 2D tensor as input and returns the run times of `mul_row_loop` and `mul_row_fast` on this tensor, respectively. Use `time.perf_counter`.\n",
    "\n",
    "Use `torch.ones` to create a 2D tensor of size (1000, 400) full of ones and run `times` on it (there should be more than two orders of magnitude difference)."
   ]
  },
  {
   "cell_type": "code",
   "execution_count": 42,
   "metadata": {
    "colab": {},
    "colab_type": "code",
    "id": "vlOKGDMJQAe8"
   },
   "outputs": [
    {
     "name": "stdout",
     "output_type": "stream",
     "text": [
      "1.1453605849999917, 0.0004125199999975848\n"
     ]
    }
   ],
   "source": [
    "import time\n",
    "from time import perf_counter\n",
    "\n",
    "def times(input_tensor):\n",
    "    # raise NotImplementedError()\n",
    "    t1 = time.perf_counter()\n",
    "    output_slow = mul_row_loop(input_tensor)\n",
    "    t2 = time.perf_counter()\n",
    "    \n",
    "    t3 = time.perf_counter()\n",
    "    output_fast = mul_row_fast(input_tensor)\n",
    "    t4 = time.perf_counter()\n",
    "    return t2-t1, t4-t3\n",
    "# Uncomment lines below once you implement this function. \n",
    "input_tensor = torch.ones(1000, 400)\n",
    "time_1, time_2 = times(input_tensor)\n",
    "print('{}, {}'.format(time_1, time_2))"
   ]
  },
  {
   "cell_type": "markdown",
   "metadata": {
    "colab_type": "text",
    "id": "yn_FXad8QAe_"
   },
   "source": [
    "# 3. Non-linearities"
   ]
  },
  {
   "cell_type": "markdown",
   "metadata": {
    "colab_type": "text",
    "id": "19a6rMNeQAe_"
   },
   "source": [
    "## 3.1. ReLU\n",
    "ReLU (Rectified Linear Unit) is a non-linear activation fuction defined as:\n",
    "\n",
    "$$y = \\mathrm{max}(0,x)$$\n",
    "\n",
    "Define a fully connected neural network `linear_fc_relu` which:\n",
    "- takes 2 dimensional data as input and passes it through linear modules (`torch.nn.Linear`)\n",
    "- has one hidden layer of dimension 5 \n",
    "- has output dimension of 2\n",
    "- has ReLu as an activation function\n",
    "\n",
    "Create a tensor with input data $X$ of size (100, 2) using `torch.randn`. \n",
    "\n",
    "Following the example in https://github.com/Atcold/pytorch-Deep-Learning-Minicourse/blob/master/02-space_stretching.ipynb, visualize the output of passing `X` through the neural network `linear_fc_relu`."
   ]
  },
  {
   "cell_type": "code",
   "execution_count": 43,
   "metadata": {},
   "outputs": [],
   "source": [
    "# set up the device\n",
    "device = torch.device(\"cuda:0\" if torch.cuda.is_available() else \"cpu\")"
   ]
  },
  {
   "cell_type": "code",
   "execution_count": 44,
   "metadata": {
    "colab": {},
    "colab_type": "code",
    "id": "XX0oEX98QAfA"
   },
   "outputs": [],
   "source": [
    "# Input data\n",
    "X = torch.randn(100, 2)"
   ]
  },
  {
   "cell_type": "code",
   "execution_count": 45,
   "metadata": {
    "colab": {},
    "colab_type": "code",
    "id": "zf-DCcGEQAfI"
   },
   "outputs": [
    {
     "data": {
      "image/png": "[encoded data removed]",
      "text/plain": [
       "<Figure size 432x288 with 1 Axes>"
      ]
     },
     "metadata": {
      "needs_background": "light"
     },
     "output_type": "display_data"
    },
    {
     "data": {
      "image/png": "[encoded data removed]",
      "text/plain": [
       "<Figure size 432x288 with 1 Axes>"
      ]
     },
     "metadata": {
      "needs_background": "light"
     },
     "output_type": "display_data"
    }
   ],
   "source": [
    "# create 1-layer neural networks with ReLU activation\n",
    "colors = X[:, 0]\n",
    "# initial points\n",
    "show_scatterplot(X, colors, title='x')\n",
    "\n",
    "hidden_nn = 5\n",
    "# ReLu\n",
    "NL = nn.ReLU()\n",
    "linear_fc_relu = nn.Sequential(\n",
    "    # linear \n",
    "    nn.Linear(2, hidden_nn),\n",
    "    NL,\n",
    "    nn.Linear(hidden_nn, 2)\n",
    "    )\n",
    "linear_fc_relu.to(device)\n",
    "# Visualize: TODO\n",
    "with torch.no_grad():\n",
    "    Y = linear_fc_relu(X)\n",
    "show_scatterplot(Y, colors, title='Linear_fc_ReLu')"
   ]
  },
  {
   "cell_type": "markdown",
   "metadata": {
    "colab_type": "text",
    "id": "RSznMa6rQAfL"
   },
   "source": [
    "## 3.2. Sigmoid\n",
    "The sigmoid function is another popular choice for a non-linear activation function which maps its input to values in the interval $(0,1)$. It is formally defined as:\n",
    "\n",
    "$$\\sigma(x) = \\frac{1}{1+ e^{-x}}$$\n",
    "\n",
    "Define a new neural network `linear_fc_sigmoid` which is the same architecture as in part `3.1.` but with a sigmoid unit instead of ReLU. \n",
    "\n",
    "Using the same $X$ as in part `3.1`, visualize the output of passing `X` through the neural network `linear_fc_sigmoid`."
   ]
  },
  {
   "cell_type": "code",
   "execution_count": 46,
   "metadata": {
    "colab": {},
    "colab_type": "code",
    "id": "5xg3uBHNQAfM"
   },
   "outputs": [
    {
     "data": {
      "image/png": "[encoded data removed]",
      "text/plain": [
       "<Figure size 432x288 with 1 Axes>"
      ]
     },
     "metadata": {
      "needs_background": "light"
     },
     "output_type": "display_data"
    },
    {
     "data": {
      "image/png": "[encoded data removed]",
      "text/plain": [
       "<Figure size 432x288 with 1 Axes>"
      ]
     },
     "metadata": {
      "needs_background": "light"
     },
     "output_type": "display_data"
    }
   ],
   "source": [
    "# create 1-layer neural networks with Sigmoid activation\n",
    "show_scatterplot(X, colors, title=\"x\")\n",
    "\n",
    "hidden_nn = 5\n",
    "# Sigmoid\n",
    "NL = nn.Sigmoid()\n",
    "linear_fc_sigmoid = nn.Sequential(\n",
    "    nn.Linear(2, hidden_nn),\n",
    "    NL,\n",
    "    nn.Linear(hidden_nn, 2)    \n",
    "    )\n",
    "# Visualize: TODO\n",
    "with torch.no_grad():\n",
    "    Y = linear_fc_sigmoid(X)\n",
    "show_scatterplot(Y, colors, title=\"Linear_fc_Sigmoid\")"
   ]
  }
 ],
 "metadata": {
  "colab": {
   "name": "DS-GA-1008-HW_assignment_1.ipynb",
   "provenance": [],
   "version": "0.3.2"
  },
  "kernelspec": {
   "display_name": "Python 3",
   "language": "python",
   "name": "python3"
  },
  "language_info": {
   "codemirror_mode": {
    "name": "ipython",
    "version": 3
   },
   "file_extension": ".py",
   "mimetype": "text/x-python",
   "name": "python",
   "nbconvert_exporter": "python",
   "pygments_lexer": "ipython3",
   "version": "3.7.1"
  },
  "toc": {
   "base_numbering": 1,
   "nav_menu": {},
   "number_sections": true,
   "sideBar": true,
   "skip_h1_title": false,
   "title_cell": "Table of Contents",
   "title_sidebar": "Contents",
   "toc_cell": false,
   "toc_position": {},
   "toc_section_display": true,
   "toc_window_display": false
  },
  "varInspector": {
   "cols": {
    "lenName": 16,
    "lenType": 16,
    "lenVar": 40
   },
   "kernels_config": {
    "python": {
     "delete_cmd_postfix": "",
     "delete_cmd_prefix": "del ",
     "library": "var_list.py",
     "varRefreshCmd": "print(var_dic_list())"
    },
    "r": {
     "delete_cmd_postfix": ") ",
     "delete_cmd_prefix": "rm(",
     "library": "var_list.r",
     "varRefreshCmd": "cat(var_dic_list()) "
    }
   },
   "types_to_exclude": [
    "module",
    "function",
    "builtin_function_or_method",
    "instance",
    "_Feature"
   ],
   "window_display": false
  }
 },
 "nbformat": 4,
 "nbformat_minor": 1
}
